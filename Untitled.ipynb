{
 "cells": [
  {
   "cell_type": "code",
   "execution_count": 1,
   "id": "d3650487-fd3b-4d50-b66e-a825b51e9815",
   "metadata": {},
   "outputs": [],
   "source": [
    "from langchain_community.llms import Ollama"
   ]
  },
  {
   "cell_type": "code",
   "execution_count": 2,
   "id": "5e659295-0d36-429e-9629-d96a3e2e12e8",
   "metadata": {},
   "outputs": [],
   "source": [
    "llm = Ollama(model=\"llama2\")"
   ]
  },
  {
   "cell_type": "code",
   "execution_count": null,
   "id": "1b8d8335-e484-45c8-8cb9-3ce8ddf0f482",
   "metadata": {},
   "outputs": [],
   "source": [
    "print(llm.invoke(\"how can langsmith help with testing?\"))"
   ]
  },
  {
   "cell_type": "code",
   "execution_count": null,
   "id": "ad528582-6136-4053-b0f1-6232bd814957",
   "metadata": {},
   "outputs": [],
   "source": []
  }
 ],
 "metadata": {
  "kernelspec": {
   "display_name": "Python 3 (ipykernel)",
   "language": "python",
   "name": "python3"
  },
  "language_info": {
   "codemirror_mode": {
    "name": "ipython",
    "version": 3
   },
   "file_extension": ".py",
   "mimetype": "text/x-python",
   "name": "python",
   "nbconvert_exporter": "python",
   "pygments_lexer": "ipython3",
   "version": "3.10.7"
  }
 },
 "nbformat": 4,
 "nbformat_minor": 5
}
